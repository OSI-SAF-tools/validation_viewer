{
 "cells": [
  {
   "cell_type": "code",
   "execution_count": 1,
   "metadata": {
    "collapsed": false
   },
   "outputs": [
    {
     "name": "stderr",
     "output_type": "stream",
     "text": [
      "/home/jol/anaconda/lib/python2.7/site-packages/matplotlib/font_manager.py:273: UserWarning: Matplotlib is building the font cache using fc-list. This may take a moment.\n",
      "  warnings.warn('Matplotlib is building the font cache using fc-list. This may take a moment.')\n"
     ]
    }
   ],
   "source": [
    "from __future__ import division\n",
    "import sys\n",
    "sys.path.append('../config')\n",
    "sys.path.append('../viewer')\n",
    "\n",
    "%matplotlib inline\n",
    "from pylab import *\n",
    "import os\n",
    "import glob\n",
    "from pandas import *\n",
    "from pandas import datetime\n",
    "import re\n",
    "import pyresample as pr\n",
    "from ipywidgets import interactive\n",
    "import itertools\n",
    "import plots_daily as pd\n",
    "import plots_aggregated as pa\n",
    "import os.path"
   ]
  },
  {
   "cell_type": "markdown",
   "metadata": {},
   "source": [
    "##### Get the configuration variables"
   ]
  },
  {
   "cell_type": "code",
   "execution_count": null,
   "metadata": {
    "collapsed": false
   },
   "outputs": [],
   "source": [
    "import config_osi450 as cfg\n",
    "#from config.config_amsr2 import *\n",
    "#from config_ssmi import *\n",
    "#from config_emissivity import *"
   ]
  },
  {
   "cell_type": "code",
   "execution_count": null,
   "metadata": {
    "collapsed": false
   },
   "outputs": [],
   "source": [
    "cfg.data_dir"
   ]
  },
  {
   "cell_type": "markdown",
   "metadata": {},
   "source": [
    "##### Plot the Standard Deviation as a Function of the Date"
   ]
  },
  {
   "cell_type": "code",
   "execution_count": null,
   "metadata": {
    "collapsed": false,
    "scrolled": false
   },
   "outputs": [],
   "source": [
    "# data_dir, output_dir, area_config_path, bin_intervals, results_output\n",
    "vp = pa.ValidationPlots(cfg.data_dir, cfg.path_to_plots, \n",
    "                        cfg.path_area_config, cfg.bin_intervals, cfg.RESULTS_PATHS)\n",
    "stats = vp.line_plots('stddev', 0, 50)\n",
    "stats = vp.line_plots('bias', -50, 50)\n",
    "\n",
    "# Save to excel\n",
    "#stats.to_excel('/home/jol/Documents/Programs/data_analaysis/validation/bias_std_amsr2.xls')"
   ]
  },
  {
   "cell_type": "code",
   "execution_count": null,
   "metadata": {
    "collapsed": false
   },
   "outputs": [],
   "source": [
    "stats['water_bias'].plot()"
   ]
  },
  {
   "cell_type": "markdown",
   "metadata": {},
   "source": [
    "##### Plot the Within ±10 % and ±20 % Charts"
   ]
  },
  {
   "cell_type": "code",
   "execution_count": null,
   "metadata": {
    "collapsed": false
   },
   "outputs": [],
   "source": [
    "plot(stats['ice_bias'])"
   ]
  },
  {
   "cell_type": "code",
   "execution_count": null,
   "metadata": {
    "collapsed": false
   },
   "outputs": [],
   "source": [
    "stats['intermediate_bias'].plot()"
   ]
  },
  {
   "cell_type": "code",
   "execution_count": null,
   "metadata": {
    "collapsed": false
   },
   "outputs": [],
   "source": [
    "print(cfg.RESULTS_PATHS)\n",
    "!pwd"
   ]
  },
  {
   "cell_type": "code",
   "execution_count": null,
   "metadata": {
    "collapsed": false
   },
   "outputs": [],
   "source": [
    "vp.barcharts(ymin=0, ymax=100)"
   ]
  },
  {
   "cell_type": "code",
   "execution_count": null,
   "metadata": {
    "collapsed": false
   },
   "outputs": [],
   "source": [
    "os.path.join('../', cfg.path_area_config)"
   ]
  },
  {
   "cell_type": "markdown",
   "metadata": {},
   "source": [
    "### Look at the data for a given day"
   ]
  },
  {
   "cell_type": "code",
   "execution_count": null,
   "metadata": {
    "collapsed": false,
    "scrolled": false
   },
   "outputs": [],
   "source": [
    "reload(pd)\n",
    "vplots = pd.ValidationPlots(cfg.path_to_hdf5, os.path.join('../', cfg.path_area_config), 'EASE2')\n",
    "vplots.hemisphere = 'NH' # 'NH' for the Northern Hemisphere and 'SH' for the Southern\n",
    "dates = dict(zip(*[vplots.dates, range(len(vplots.dates))]))\n",
    "def interact_out(date, plot_type):\n",
    "    dateidx = dates[date] if isinstance(date, (unicode, str)) else date\n",
    "    getattr(vplots, plot_type)(dateidx)\n",
    "    \n",
    "matplotlib.rcParams.update({'font.size': 10})\n",
    "plot_types = ['plot_both_maps_with_anomaly2', 'plot_hemisphere', 'plot_kde', 'scatter', \n",
    "              'hex_bin', 'heat_map_log']\n",
    "hemispheres = ['NH', 'SH']\n",
    "interactive(interact_out, date=(0, len(vplots.dates)-1, 1), plot_type=plot_types)\n",
    "#interactive(interact_out, date=list(vplots.dates), plot_type=plot_types)"
   ]
  },
  {
   "cell_type": "markdown",
   "metadata": {},
   "source": [
    "Make a movie of the plots"
   ]
  },
  {
   "cell_type": "code",
   "execution_count": null,
   "metadata": {
    "collapsed": false
   },
   "outputs": [],
   "source": [
    "pd.make_video('plot_both_maps_with_anomaly',\n",
    "              '/data/jol/validation/plots/plot_map_with_anolomoly/')"
   ]
  },
  {
   "cell_type": "code",
   "execution_count": null,
   "metadata": {
    "collapsed": false
   },
   "outputs": [],
   "source": [
    "vplots = pd.ValidationPlots(cfg.path_to_hdf5, cfg.path_area_config, 'EASE2')\n",
    "vplots.hemisphere = 'NH'\n",
    "ref, sat = vplots.get_ref_sat('all')"
   ]
  },
  {
   "cell_type": "code",
   "execution_count": null,
   "metadata": {
    "collapsed": false
   },
   "outputs": [],
   "source": [
    "diff = (ref - sat).mean(axis=2)\n",
    "fig, ax1 = plt.subplots(nrows=1, ncols=1, figsize=(11, 11))\n",
    "palette2 = plt.cm.seismic\n",
    "palette2.set_bad(color='k', alpha=0.25)\n",
    "fig = vplots.plot_hemisphere('NH', ax1, diff, vmin=-100, vmax=100, cmap=palette2)\n",
    "title('Mean Spatial Anomaly in SIC (Ice-Chart - OSI-SAF)')"
   ]
  },
  {
   "cell_type": "code",
   "execution_count": null,
   "metadata": {
    "collapsed": false
   },
   "outputs": [],
   "source": [
    "import numpy as np\n",
    "import matplotlib.pyplot as plt\n",
    "x = np.arange(1000)\n",
    "y = np.sin(x)\n",
    "\n",
    "for i in range(5000):\n",
    "    fig = plt.figure()\n",
    "    ax = fig.add_subplot(1, 1, 1)\n",
    "    ax.plot(x, y)\n",
    "    plt.close(fig)\n",
    "\n",
    "print(plt.get_fignums())\n",
    "\n",
    "#for i in range(500):\n",
    "#    fig = plt.figure()\n",
    "#    ax = fig.add_subplot(1, 1, 1)\n",
    "#    ax.plot(x, y)\n",
    "#    fig.clf()\n",
    "\n",
    "#print(plt.get_fignums())"
   ]
  },
  {
   "cell_type": "code",
   "execution_count": null,
   "metadata": {
    "collapsed": true
   },
   "outputs": [],
   "source": []
  }
 ],
 "metadata": {
  "kernelspec": {
   "display_name": "Python [Root]",
   "language": "python",
   "name": "Python [Root]"
  },
  "language_info": {
   "codemirror_mode": {
    "name": "ipython",
    "version": 2
   },
   "file_extension": ".py",
   "mimetype": "text/x-python",
   "name": "python",
   "nbconvert_exporter": "python",
   "pygments_lexer": "ipython2",
   "version": "2.7.11"
  }
 },
 "nbformat": 4,
 "nbformat_minor": 0
}
