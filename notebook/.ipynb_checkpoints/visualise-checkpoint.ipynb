{
 "cells": [
  {
   "cell_type": "code",
   "execution_count": null,
   "metadata": {
    "collapsed": false
   },
   "outputs": [],
   "source": [
    "from __future__ import division\n",
    "import sys\n",
    "sys.path.append('../config')\n",
    "sys.path.append('../viewer')\n",
    "\n",
    "%matplotlib inline\n",
    "from pylab import *\n",
    "import os\n",
    "import glob\n",
    "from pandas import *\n",
    "from pandas import datetime\n",
    "import re\n",
    "import pyresample as pr\n",
    "from ipywidgets import interactive\n",
    "import itertools\n",
    "import plots_daily as pd\n",
    "import plots_aggregated as pa\n",
    "import os.path"
   ]
  },
  {
   "cell_type": "markdown",
   "metadata": {},
   "source": [
    "##### Get the configuration variables"
   ]
  },
  {
   "cell_type": "code",
   "execution_count": null,
   "metadata": {
    "collapsed": false
   },
   "outputs": [],
   "source": [
    "import config_osi450 as cfg\n",
    "#from config.config_amsr2 import *\n",
    "#from config_ssmi import *\n",
    "#from config_emissivity import *"
   ]
  },
  {
   "cell_type": "code",
   "execution_count": null,
   "metadata": {
    "collapsed": false
   },
   "outputs": [],
   "source": [
    "cfg.data_dir"
   ]
  },
  {
   "cell_type": "markdown",
   "metadata": {},
   "source": [
    "##### Plot the Standard Deviation as a Function of the Date"
   ]
  },
  {
   "cell_type": "code",
   "execution_count": null,
   "metadata": {
    "collapsed": false,
    "scrolled": false
   },
   "outputs": [],
   "source": [
    "# data_dir, output_dir, area_config_path, bin_intervals, results_output\n",
    "vp = pa.ValidationPlots(cfg.data_dir, cfg.path_to_plots, \n",
    "                        cfg.path_area_config, cfg.bin_intervals, cfg.RESULTS_PATHS)\n",
    "stats = vp.line_plots('stddev', 0, 50)\n",
    "stats = vp.line_plots('bias', -50, 50)\n",
    "\n",
    "# Save to excel\n",
    "#stats.to_excel('/home/jol/Documents/Programs/data_analaysis/validation/bias_std_amsr2.xls')"
   ]
  },
  {
   "cell_type": "code",
   "execution_count": null,
   "metadata": {
    "collapsed": false
   },
   "outputs": [],
   "source": [
    "stats['water_bias'].plot()"
   ]
  },
  {
   "cell_type": "markdown",
   "metadata": {},
   "source": [
    "##### Plot the Within ±10 % and ±20 % Charts"
   ]
  },
  {
   "cell_type": "code",
   "execution_count": null,
   "metadata": {
    "collapsed": false
   },
   "outputs": [],
   "source": [
    "plot(stats['ice_bias'])"
   ]
  },
  {
   "cell_type": "code",
   "execution_count": null,
   "metadata": {
    "collapsed": false
   },
   "outputs": [],
   "source": [
    "stats['intermediate_bias'].plot()"
   ]
  },
  {
   "cell_type": "code",
   "execution_count": null,
   "metadata": {
    "collapsed": false
   },
   "outputs": [],
   "source": [
    "print(cfg.RESULTS_PATHS)\n",
    "!pwd"
   ]
  },
  {
   "cell_type": "code",
   "execution_count": null,
   "metadata": {
    "collapsed": false
   },
   "outputs": [],
   "source": [
    "vp.barcharts(ymin=0, ymax=100)"
   ]
  },
  {
   "cell_type": "code",
   "execution_count": null,
   "metadata": {
    "collapsed": false
   },
   "outputs": [],
   "source": [
    "os.path.join('../', cfg.path_area_config)"
   ]
  },
  {
   "cell_type": "markdown",
   "metadata": {},
   "source": [
    "### Look at the data for a given day"
   ]
  },
  {
   "cell_type": "code",
   "execution_count": null,
   "metadata": {
    "collapsed": false,
    "scrolled": false
   },
   "outputs": [],
   "source": [
    "reload(pd)\n",
    "vplots = pd.ValidationPlots(cfg.path_to_hdf5, os.path.join('../', cfg.path_area_config), 'EASE2')\n",
    "vplots.hemisphere = 'NH' # 'NH' for the Northern Hemisphere and 'SH' for the Southern\n",
    "dates = dict(zip(*[vplots.dates, range(len(vplots.dates))]))\n",
    "def interact_out(date, plot_type):\n",
    "    dateidx = dates[date] if isinstance(date, (unicode, str)) else date\n",
    "    getattr(vplots, plot_type)(dateidx)\n",
    "    \n",
    "matplotlib.rcParams.update({'font.size': 10})\n",
    "plot_types = ['plot_both_maps_with_anomaly_i', 'plot_hemisphere', 'plot_kde', 'scatter', \n",
    "              'hex_bin', 'heat_map_log', 'heat_map_norm']\n",
    "hemispheres = ['NH', 'SH']\n",
    "interactive(interact_out, date=(0, len(vplots.dates)-1, 1), plot_type=plot_types)\n",
    "#interactive(interact_out, date=list(vplots.dates), plot_type=plot_types)"
   ]
  },
  {
   "cell_type": "markdown",
   "metadata": {},
   "source": [
    "Make a movie of the plots"
   ]
  },
  {
   "cell_type": "code",
   "execution_count": null,
   "metadata": {
    "collapsed": false
   },
   "outputs": [],
   "source": [
    "pd.make_video('heat_map_norm',\n",
    "              '/data/jol/validation/plots/heat_map_norm/')"
   ]
  },
  {
   "cell_type": "code",
   "execution_count": null,
   "metadata": {
    "collapsed": false
   },
   "outputs": [],
   "source": [
    "1"
   ]
  },
  {
   "cell_type": "code",
   "execution_count": null,
   "metadata": {
    "collapsed": true
   },
   "outputs": [],
   "source": [
    "import sys\n",
    "sys.path.append(\"/home/jol/Documents/code/repos/git_pytroll/trollvalidation/trollvalidation\")\n",
    "import validation_functions as vf\n",
    "import xarray as xr"
   ]
  },
  {
   "cell_type": "code",
   "execution_count": null,
   "metadata": {
    "collapsed": false
   },
   "outputs": [],
   "source": [
    "vplots = pd.ValidationPlots(cfg.path_to_hdf5, cfg.path_area_config, 'EASE2')\n",
    "vplots.hemisphere = 'NH'\n",
    "dates, refds = vplots.read_hdf5('reference')\n",
    "dates, satds = vplots.read_hdf5('satellite')\n",
    "ref = ma.masked_invalid(refds[:]) \n",
    "sat = ma.masked_invalid(satds[:])"
   ]
  },
  {
   "cell_type": "code",
   "execution_count": null,
   "metadata": {
    "collapsed": false
   },
   "outputs": [],
   "source": [
    "ds = xr.Dataset({'ref': (['x', 'y', 'date'],  ref), \n",
    "                 'sat':(['x', 'y', 'date'], sat)},\n",
    "               {'date': pd.to_datetime(dates)})\n",
    "#ds = ds.transpose('y', 'x', 'date')"
   ]
  },
  {
   "cell_type": "code",
   "execution_count": null,
   "metadata": {
    "collapsed": false
   },
   "outputs": [],
   "source": [
    "palette2 = plt.cm.seismic\n",
    "palette2.set_bad(color='0.75')\n",
    "fig, ax1 = plt.subplots(nrows=1, ncols=1, figsize=(11, 11))\n",
    "(ds.ref - ds.sat).mean(axis=2).plot(vmin=-100, vmax=100, cmap=palette2)\n",
    "title('Mean Spatial Anomaly in SIC (Ice-Chart - OSI-SAF)')\n",
    "show()"
   ]
  },
  {
   "cell_type": "code",
   "execution_count": null,
   "metadata": {
    "collapsed": false
   },
   "outputs": [],
   "source": [
    "diff = (ref - sat).mean(axis=2)\n",
    "fig, ax1 = plt.subplots(nrows=1, ncols=1, figsize=(11, 11))\n",
    "palette2 = plt.cm.seismic\n",
    "palette2.set_bad(color='k', alpha=0.25)\n",
    "fig = imshow(diff, vmin=-100, vmax=100, cmap=palette2)\n",
    "title('Mean Spatial Anomaly in SIC (Ice-Chart - OSI-SAF)')\n",
    "colorbar()\n",
    "show()\n",
    "\n",
    "plot((ref-sat).mean(axis=0).mean(axis=0))"
   ]
  },
  {
   "cell_type": "code",
   "execution_count": null,
   "metadata": {
    "collapsed": false
   },
   "outputs": [],
   "source": [
    "def apply_to_dataset(func):\n",
    "    arr = []\n",
    "    for d in ds.date:\n",
    "        ds_row = ds.sel(date=d)\n",
    "        data_eval = ma.masked_invalid(ds_row.ref.data)\n",
    "        data_orig = ma.masked_invalid(ds_row.sat.data)\n",
    "        arr.append((d.data, func(data_eval, data_orig)))\n",
    "    return zip(*arr)"
   ]
  },
  {
   "cell_type": "code",
   "execution_count": null,
   "metadata": {
    "collapsed": false
   },
   "outputs": [],
   "source": [
    "#dates, values = apply_to_dataset(vf.water_bias)\n",
    "#plot(dates, values)\n",
    "\n",
    "dates, values = apply_to_dataset(vf.ice_bias)\n",
    "plot(dates, values)"
   ]
  },
  {
   "cell_type": "code",
   "execution_count": null,
   "metadata": {
    "collapsed": false
   },
   "outputs": [],
   "source": [
    "r = ds.sel(date=ds.date[500]).ref\n",
    "s = ds.sel(date=ds.date[500]).sat\n",
    "(r - s).plot()"
   ]
  },
  {
   "cell_type": "code",
   "execution_count": null,
   "metadata": {
    "collapsed": false
   },
   "outputs": [],
   "source": [
    "import numpy as np\n",
    "import matplotlib.pyplot as plt\n",
    "x = np.arange(1000)\n",
    "y = np.sin(x)\n",
    "\n",
    "for i in range(5000):\n",
    "    fig = plt.figure()\n",
    "    ax = fig.add_subplot(1, 1, 1)\n",
    "    ax.plot(x, y)\n",
    "    plt.close(fig)\n",
    "\n",
    "print(plt.get_fignums())\n",
    "\n",
    "#for i in range(500):\n",
    "#    fig = plt.figure()\n",
    "#    ax = fig.add_subplot(1, 1, 1)\n",
    "#    ax.plot(x, y)\n",
    "#    fig.clf()\n",
    "\n",
    "#print(plt.get_fignums())"
   ]
  },
  {
   "cell_type": "code",
   "execution_count": null,
   "metadata": {
    "collapsed": false
   },
   "outputs": [],
   "source": [
    "import numpy as np; np.random.seed(0)\n",
    "import seaborn as sns; sns.set()\n",
    "uniform_data = np.random.rand(10, 12)\n",
    "ax = sns.heatmap(uniform_data, annot=True, cbar=False)\n",
    "sns.heatmap(uniform_data / uniform_data.max(axis=0), ax=ax, annot=False, cbar=True)\n",
    "show()"
   ]
  },
  {
   "cell_type": "code",
   "execution_count": null,
   "metadata": {
    "collapsed": false
   },
   "outputs": [],
   "source": [
    "vplots = pd.ValidationPlots(cfg.path_to_hdf5, cfg.path_area_config, 'EASE2')\n",
    "vplots.hemisphere = 'NH'\n",
    "ref, sat = vplots.get_ref_sat('all')\n",
    "\n",
    "i = 10\n",
    "ss = sat[:, :,i].flatten()\n",
    "#plot(np.sort(ss[~ss.mask]))\n",
    "rr = ref[:, :,i].flatten()\n",
    "#plot(np.sort(rr[~rr.mask]))"
   ]
  },
  {
   "cell_type": "code",
   "execution_count": null,
   "metadata": {
    "collapsed": false
   },
   "outputs": [],
   "source": [
    "from itertools import compress\n",
    "\n",
    "i = 100\n",
    "rr = ref[:, :,i].flatten()\n",
    "f1, x, _ = hist(np.sort(rr[~rr.mask]), alpha=.5)\n",
    "ss = sat[:, :,i].flatten()\n",
    "f2, x, _ = hist(np.sort(ss[~ss.mask]), alpha=.5)\n",
    "show()\n",
    "diff = 100*(f1 - f2)/np.sqrt(f1**2 + f2**2)\n",
    "bars = bar(x[0:-1]+0.5, diff)\n",
    "for i in compress(range(len(diff)), diff > 0):\n",
    "    bars[i].set_facecolor('red')\n",
    "ylim(-100,100)\n",
    "grid()"
   ]
  },
  {
   "cell_type": "code",
   "execution_count": null,
   "metadata": {
    "collapsed": true
   },
   "outputs": [],
   "source": []
  }
 ],
 "metadata": {
  "kernelspec": {
   "display_name": "Python [Root]",
   "language": "python",
   "name": "Python [Root]"
  },
  "language_info": {
   "codemirror_mode": {
    "name": "ipython",
    "version": 2
   },
   "file_extension": ".py",
   "mimetype": "text/x-python",
   "name": "python",
   "nbconvert_exporter": "python",
   "pygments_lexer": "ipython2",
   "version": "2.7.12"
  }
 },
 "nbformat": 4,
 "nbformat_minor": 0
}
